{
 "metadata": {
  "name": "JUN Challenge"
 },
 "nbformat": 3,
 "nbformat_minor": 0,
 "worksheets": [
  {
   "cells": [
    {
     "cell_type": "heading",
     "level": 1,
     "metadata": {},
     "source": [
      "JUN TF Gene challenge"
     ]
    },
    {
     "cell_type": "markdown",
     "metadata": {},
     "source": [
      "From the gene DNA sequence found in https://www.dropbox.com/s/0bvyrc1zf5x1hhk/jun.txt , compute:\n",
      "\n",
      "* The Nucleotide frequency table (e.g. A,C,G and T).\n",
      "* The BiNucleotide frequency table (e.g. AC, CC or CGs).\n",
      "* The Trinucleoride frequency table (e.g. AAA or CTT)"
     ]
    },
    {
     "cell_type": "heading",
     "level": 2,
     "metadata": {},
     "source": [
      "Data import"
     ]
    },
    {
     "cell_type": "markdown",
     "metadata": {},
     "source": [
      "Download the file and save it on a text (eg.g. jun.txt)\n"
     ]
    },
    {
     "cell_type": "code",
     "collapsed": false,
     "input": [
      "s = open(\"jun.txt\")\n",
      "s.readlines()[:2]\n"
     ],
     "language": "python",
     "metadata": {},
     "outputs": [
      {
       "output_type": "pyout",
       "prompt_number": 99,
       "text": [
        "['GACATCATGGGCTATTTTTAGGGGTTGACTGGTAGCAGATAAGTGTTGAGCTCGGGCTGGATAAGGGCTC\\n',\n",
        " 'AGAGTTGCACTGAGTGTGGCTGAAGCAGCGAGGCGGGAGTGGAGGTGCGCGGAGTCAGGCAGACAGACAG\\n']"
       ]
      }
     ],
     "prompt_number": 99
    },
    {
     "cell_type": "code",
     "collapsed": false,
     "input": [
      "s.seek(0) # Just not to open again the file\n",
      "# I prefer to have a string continous\n",
      "resids = reduce( lambda x,y: x+y ,s.readlines() )\n",
      "s.close() "
     ],
     "language": "python",
     "metadata": {},
     "outputs": [],
     "prompt_number": 100
    },
    {
     "cell_type": "code",
     "collapsed": false,
     "input": [
      "resids[60:80]"
     ],
     "language": "python",
     "metadata": {},
     "outputs": [
      {
       "output_type": "pyout",
       "prompt_number": 60,
       "text": [
        "'ATAAGGGCTC\\nAGAGTTGCA'"
       ]
      }
     ],
     "prompt_number": 60
    },
    {
     "cell_type": "code",
     "collapsed": false,
     "input": [
      "# Let's remove the newlines\n",
      "resids = dna.replace(\"\\n\",\"\")\n",
      "dna[60:80]"
     ],
     "language": "python",
     "metadata": {},
     "outputs": [
      {
       "output_type": "pyout",
       "prompt_number": 105,
       "text": [
        "'ATAAGGGCTCAGAGTTGCAC'"
       ]
      }
     ],
     "prompt_number": 105
    },
    {
     "cell_type": "code",
     "collapsed": false,
     "input": [
      "# Combinations of the four symbols \n",
      "uni= unique(resids)\n",
      "di = [x+y for x in uni for y in uni]\n",
      "tri= [x+y+z for x in uni for y in uni for z in uni]"
     ],
     "language": "python",
     "metadata": {},
     "outputs": [],
     "prompt_number": 106
    },
    {
     "cell_type": "code",
     "collapsed": false,
     "input": [
      "# My solution will be based on a dictionaries,\n",
      "# disctionary initialization\n",
      "duni={x:0 for x in uni }\n",
      "ddi={x:0 for x in di }\n",
      "dtri={x:0 for x in tri }\n",
      "duni"
     ],
     "language": "python",
     "metadata": {},
     "outputs": [
      {
       "output_type": "pyout",
       "prompt_number": 117,
       "text": [
        "{'A': 0, 'C': 0, 'G': 0, 'T': 0}"
       ]
      }
     ],
     "prompt_number": 117
    },
    {
     "cell_type": "code",
     "collapsed": false,
     "input": [
      "for x in resids:\n",
      "    duni[x]+=1\n",
      "uniF={x:y for x,y in zip(uni, duni.values()/sum(duni.values())) }\n",
      "uniF"
     ],
     "language": "python",
     "metadata": {},
     "outputs": [
      {
       "output_type": "pyout",
       "prompt_number": 168,
       "text": [
        "{'A': 0.23842587947261745,\n",
        " 'C': 0.26429331139250667,\n",
        " 'G': 0.20168168409223175,\n",
        " 'T': 0.29559912504264413}"
       ]
      }
     ],
     "prompt_number": 168
    },
    {
     "cell_type": "code",
     "collapsed": false,
     "input": [
      "for i in arange(0,len(resids)-1):\n",
      "    ddi[resids[i:(i+2)]]+=1.\n",
      "diF={x:y for x,y in zip(di, ddi.values()/sum(ddi.values())) }\n",
      "diF"
     ],
     "language": "python",
     "metadata": {},
     "outputs": [
      {
       "output_type": "pyout",
       "prompt_number": 158,
       "text": [
        "{'AA': 0.067730282962071037,\n",
        " 'AC': 0.049367850692354005,\n",
        " 'AG': 0.046959662853702587,\n",
        " 'AT': 0.084587597832630951,\n",
        " 'CA': 0.077363034316676696,\n",
        " 'CC': 0.062612883804936792,\n",
        " 'CG': 0.062311860325105356,\n",
        " 'CT': 0.055990367248645395,\n",
        " 'GA': 0.083684527393136671,\n",
        " 'GC': 0.09241420830824805,\n",
        " 'GG': 0.036724864539434077,\n",
        " 'GT': 0.072546658639373873,\n",
        " 'TA': 0.064720048163756774,\n",
        " 'TC': 0.035821794099939797,\n",
        " 'TG': 0.045153521974714027,\n",
        " 'TT': 0.062010836845273934}"
       ]
      }
     ],
     "prompt_number": 158
    },
    {
     "cell_type": "code",
     "collapsed": false,
     "input": [
      "for i in arange(0,len(resids)-2):\n",
      "    dtri[resids[i:(i+3)]]+=1.\n",
      "triF={x:y for x,y in zip(tri, dtri.values()/sum(dtri.values())) }\n",
      "\n"
     ],
     "language": "python",
     "metadata": {},
     "outputs": [],
     "prompt_number": 174
    },
    {
     "cell_type": "code",
     "collapsed": false,
     "input": [
      "import matplotlib.pyplot as plt\n",
      "\n",
      "fig = plt.figure()\n",
      "ax = fig.add_subplot(221)\n",
      "width = 0.35   \n",
      "ind = np.arange(len(triF))\n",
      "rects1 = ax.bar(ind, triF.values(), width,\n",
      "                color='red')\n",
      "ax = fig.add_subplot(222)\n",
      "width = 0.35   \n",
      "ind = np.arange(len(diF))\n",
      "rects1 = ax.bar(ind, diF.values(), width,\n",
      "                color='red')\n",
      "ax.set_xticks(ind)\n",
      "xtickNames = ax.set_xticklabels(diF.keys())\n",
      "ax = fig.add_subplot(223)\n",
      "width = 0.35   \n",
      "ind = np.arange(len(uniF))\n",
      "rects1 = ax.bar(ind, uniF.values(), width,\n",
      "                color='red')\n",
      "xTickMarks = ['Group'+str(i) for i in range(1,6)]\n",
      "ax.set_xticks(ind)\n",
      "xtickNames = ax.set_xticklabels(uniF.keys())"
     ],
     "language": "python",
     "metadata": {},
     "outputs": [
      {
       "output_type": "display_data",
       "png": "[encoded data removed]"
      }
     ],
     "prompt_number": 173
    }
   ],
   "metadata": {}
  }
 ]
}