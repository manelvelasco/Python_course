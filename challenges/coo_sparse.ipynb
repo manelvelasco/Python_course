{
 "metadata": {
  "name": "coo_sparse"
 },
 "nbformat": 3,
 "nbformat_minor": 0,
 "worksheets": [
  {
   "cells": [
    {
     "cell_type": "markdown",
     "metadata": {},
     "source": [
      "Check the documentation of sparse.coo matrix. Create a sparse\n",
      "matrix M so that it looks like the following"
     ]
    },
    {
     "cell_type": "code",
     "collapsed": false,
     "input": [
      "from scipy import sparse\n",
      "import numpy as np\n",
      "row = np.array([0, 3, 1, 0])\n",
      "col = np.array([0, 3, 1, 2])\n",
      "data = np.array([4, 5, 7, 9])\n",
      "M = sparse.coo_matrix((data, (row, col)), shape=(4, 4))\n",
      "M.todense()"
     ],
     "language": "python",
     "metadata": {},
     "outputs": [
      {
       "output_type": "pyout",
       "prompt_number": 2,
       "text": [
        "matrix([[4, 0, 9, 0],\n",
        "        [0, 7, 0, 0],\n",
        "        [0, 0, 0, 0],\n",
        "        [0, 0, 0, 5]])"
       ]
      }
     ],
     "prompt_number": 2
    },
    {
     "cell_type": "markdown",
     "metadata": {},
     "source": [
      "Can you slice this type of matrix?"
     ]
    },
    {
     "cell_type": "code",
     "collapsed": false,
     "input": [
      "M[1,1]\n"
     ],
     "language": "python",
     "metadata": {},
     "outputs": [
      {
       "ename": "TypeError",
       "evalue": "'coo_matrix' object has no attribute '__getitem__'",
       "output_type": "pyerr",
       "traceback": [
        "\u001b[0;31m---------------------------------------------------------------------------\u001b[0m\n\u001b[0;31mTypeError\u001b[0m                                 Traceback (most recent call last)",
        "\u001b[0;32m<ipython-input-3-7deb13db1489>\u001b[0m in \u001b[0;36m<module>\u001b[0;34m()\u001b[0m\n\u001b[0;32m----> 1\u001b[0;31m \u001b[0mM\u001b[0m\u001b[0;34m[\u001b[0m\u001b[0;36m1\u001b[0m\u001b[0;34m,\u001b[0m\u001b[0;36m1\u001b[0m\u001b[0;34m]\u001b[0m\u001b[0;34m\u001b[0m\u001b[0m\n\u001b[0m",
        "\u001b[0;31mTypeError\u001b[0m: 'coo_matrix' object has no attribute '__getitem__'"
       ]
      }
     ],
     "prompt_number": 3
    }
   ],
   "metadata": {}
  }
 ]
}